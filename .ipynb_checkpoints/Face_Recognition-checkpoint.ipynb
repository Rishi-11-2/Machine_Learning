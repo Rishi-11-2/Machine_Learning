{
 "cells": [
  {
   "cell_type": "code",
   "execution_count": 9,
   "id": "3bf7cb4e",
   "metadata": {},
   "outputs": [],
   "source": [
    "import os\n",
    "import tensorflow as tf\n",
    "import numpy as np\n",
    "import matplotlib.pyplot as plt\n",
    "from tqdm import tqdm\n",
    "import cv2 as cv"
   ]
  },
  {
   "cell_type": "code",
   "execution_count": 48,
   "id": "28fffa93",
   "metadata": {},
   "outputs": [],
   "source": [
    "data_generator=tf.keras.preprocessing.image.ImageDataGenerator(\n",
    "rescale=1./255,\n",
    "validation_split=0.2)"
   ]
  },
  {
   "cell_type": "code",
   "execution_count": 4,
   "id": "848addec",
   "metadata": {},
   "outputs": [],
   "source": [
    "IMAGE_SIZE=224\n",
    "BATCH_SIZE=5"
   ]
  },
  {
   "cell_type": "code",
   "execution_count": 7,
   "id": "62f4c624",
   "metadata": {},
   "outputs": [
    {
     "name": "stdout",
     "output_type": "stream",
     "text": [
      "['aishwarya_rai', 'angelina_jolie', 'arnold_schwarzenegger', 'bhuvan_bam', 'brad_pitt', 'cristiano_ronaldo', 'hardik_pandya', 'lionel_messi', 'manoj_bajpayee', 'ms_dhoni', 'pankaj_tripathi', 'rohit_sharma', 'sachin_tendulkar', 'scarlett_johansson', 'virat_kohli']\n"
     ]
    }
   ],
   "source": [
    "folders=sorted(os.listdir('/home/rishi/Desktop/MachineLearning/Dataset/train'))\n",
    "print(folders)"
   ]
  },
  {
   "cell_type": "code",
   "execution_count": 12,
   "id": "324de8a0",
   "metadata": {},
   "outputs": [
    {
     "name": "stderr",
     "output_type": "stream",
     "text": [
      "100%|██████████████████████████████████████████| 20/20 [00:00<00:00, 255.98it/s]\n",
      "100%|██████████████████████████████████████████| 20/20 [00:00<00:00, 105.70it/s]\n",
      "100%|██████████████████████████████████████████| 20/20 [00:00<00:00, 175.69it/s]\n",
      "100%|██████████████████████████████████████████| 20/20 [00:00<00:00, 690.35it/s]\n",
      "100%|███████████████████████████████████████████| 20/20 [00:00<00:00, 90.78it/s]\n",
      "100%|██████████████████████████████████████████| 20/20 [00:00<00:00, 415.63it/s]\n",
      "100%|██████████████████████████████████████████| 20/20 [00:00<00:00, 512.53it/s]\n",
      "100%|██████████████████████████████████████████| 20/20 [00:00<00:00, 451.65it/s]\n",
      "100%|██████████████████████████████████████████| 20/20 [00:00<00:00, 407.20it/s]\n",
      "100%|██████████████████████████████████████████| 20/20 [00:00<00:00, 628.72it/s]\n",
      "100%|██████████████████████████████████████████| 20/20 [00:00<00:00, 238.21it/s]\n",
      "100%|██████████████████████████████████████████| 20/20 [00:00<00:00, 670.71it/s]\n",
      "100%|██████████████████████████████████████████| 20/20 [00:00<00:00, 304.04it/s]\n",
      "100%|██████████████████████████████████████████| 20/20 [00:00<00:00, 148.74it/s]\n",
      "100%|██████████████████████████████████████████| 20/20 [00:00<00:00, 248.48it/s]\n"
     ]
    }
   ],
   "source": [
    "image_array=[]\n",
    "label_array=[]\n",
    "path='/home/rishi/Desktop/MachineLearning/Dataset/train/'\n",
    "for i in range(len(folders)):\n",
    "    file_sub=os.listdir(path+folders[i])\n",
    "    \n",
    "    for k in tqdm(range(len(file_sub))):\n",
    "        try:\n",
    "            img=cv.imread(path+folders[i]+'/'+file_sub[k])\n",
    "            img=cv.cvtColor(img,cv.COLOR_BGR2RGB)\n",
    "            img=cv.resize(img,(160,160))\n",
    "            image_array.append(img)\n",
    "            label_array.append(i)\n",
    "        except:\n",
    "            pass"
   ]
  },
  {
   "cell_type": "code",
   "execution_count": 18,
   "id": "962f3dd8",
   "metadata": {},
   "outputs": [],
   "source": [
    "def generate_train_image_pairs(images_dataset,labels_dataset):\n",
    "    unique_labels=np.unique(labels_dataset)\n",
    "    label_wise_indices=dict()\n",
    "    for label in unique_labels:\n",
    "        label_wise_indices.setdefault(label,\n",
    "                                 [index for index,curr_label in enumerate(labels_dataset)\n",
    "                                  if label==curr_label])\n",
    "    pair_images=[]\n",
    "    pair_labels=[]\n",
    "    for index,image in enumerate(images_dataset):\n",
    "        pos_indices=label_wise_indices.get(labels_dataset[index])\n",
    "        pos_image=images_dataset[np.random.choice(pos_indices)]\n",
    "        pair_images.append((image,pos_image))\n",
    "        pair_labels.append(1)\n",
    "        \n",
    "        neg_indices=[i for i in range(len(labels_dataset)) if i not in pos_indices]\n",
    "        neg_image=images_dataset[np.random.choice(neg_indices)]\n",
    "        pair_images.append((image,neg_image))\n",
    "        pair_labels.append(0)\n",
    "    return np.array(pair_images),np.array(pair_labels)"
   ]
  },
  {
   "cell_type": "code",
   "execution_count": 19,
   "id": "913064e1",
   "metadata": {},
   "outputs": [],
   "source": [
    "images_pair,labels_pair=generate_train_image_pairs(image_array,label_array)"
   ]
  },
  {
   "cell_type": "code",
   "execution_count": 39,
   "id": "80a692ad",
   "metadata": {},
   "outputs": [
    {
     "name": "stdout",
     "output_type": "stream",
     "text": [
      "(600, 2, 160, 160, 3)\n"
     ]
    }
   ],
   "source": [
    "print(images_pair.shape)"
   ]
  },
  {
   "cell_type": "code",
   "execution_count": 40,
   "id": "a6bf54a6",
   "metadata": {},
   "outputs": [
    {
     "name": "stdout",
     "output_type": "stream",
     "text": [
      "(600,)\n"
     ]
    }
   ],
   "source": [
    "print(labels_pair.shape)"
   ]
  },
  {
   "cell_type": "code",
   "execution_count": 57,
   "id": "b66b874f",
   "metadata": {},
   "outputs": [],
   "source": [
    "IMG_SIZE=224\n",
    "BATCH_SIZE=5\n",
    "IMG_SHAPE=(224,224,3)"
   ]
  },
  {
   "cell_type": "code",
   "execution_count": 51,
   "id": "8ceacd2e",
   "metadata": {},
   "outputs": [
    {
     "name": "stdout",
     "output_type": "stream",
     "text": [
      "Found 60 images belonging to 15 classes.\n",
      "Found 60 images belonging to 15 classes.\n"
     ]
    }
   ],
   "source": [
    "train_generator=data_generator.flow_from_directory(\n",
    "path,\n",
    "target_size=(IMAGE_SIZE,IMAGE_SIZE),\n",
    "batch_size=BATCH_SIZE,\n",
    "subset='validation')\n",
    "\n",
    "\n",
    "val_generator=data_generator.flow_from_directory(\n",
    "path,\n",
    "target_size=(IMAGE_SIZE,IMAGE_SIZE),\n",
    "batch_size=BATCH_SIZE,\n",
    "subset='validation')\n",
    "\n",
    "for image_batch ,label_batch in train_generator:\n",
    "    break"
   ]
  },
  {
   "cell_type": "code",
   "execution_count": 58,
   "id": "d75411b7",
   "metadata": {},
   "outputs": [
    {
     "name": "stdout",
     "output_type": "stream",
     "text": [
      "Downloading data from https://storage.googleapis.com/tensorflow/keras-applications/mobilenet_v2/mobilenet_v2_weights_tf_dim_ordering_tf_kernels_1.0_224_no_top.h5\n",
      "9406464/9406464 [==============================] - 6s 1us/step\n"
     ]
    }
   ],
   "source": [
    "base_model=tf.keras.applications.MobileNetV2(input_shape=IMG_SHAPE,\n",
    "                                            include_top=False,\n",
    "                                            weights='imagenet')"
   ]
  },
  {
   "cell_type": "code",
   "execution_count": 59,
   "id": "91bfb5cf",
   "metadata": {},
   "outputs": [],
   "source": [
    "base_model.trainable=False"
   ]
  },
  {
   "cell_type": "code",
   "execution_count": 63,
   "id": "de4f6959",
   "metadata": {},
   "outputs": [],
   "source": [
    "model=tf.keras.Sequential([\n",
    "    base_model,\n",
    "    tf.keras.layers.Conv2D(32,3,activation='relu'),\n",
    "    tf.keras.layers.Dropout(0.2),\n",
    "    tf.keras.layers.GlobalAveragePooling2D(),\n",
    "    tf.keras.layers.Dense(15,activation='softmax')\n",
    "])"
   ]
  },
  {
   "cell_type": "code",
   "execution_count": 64,
   "id": "93158f62",
   "metadata": {},
   "outputs": [],
   "source": [
    "model.compile(optimizer=tf.keras.optimizers.Adam(),\n",
    "             loss='categorical_crossentropy',\n",
    "             metrics=['accuracy'])"
   ]
  },
  {
   "cell_type": "code",
   "execution_count": 66,
   "id": "2e0dccb3",
   "metadata": {},
   "outputs": [
    {
     "name": "stdout",
     "output_type": "stream",
     "text": [
      "Epoch 1/100\n",
      "12/12 [==============================] - 3s 284ms/step - loss: 1.1327 - accuracy: 0.6167 - val_loss: 1.0079 - val_accuracy: 0.6333\n",
      "Epoch 2/100\n",
      "12/12 [==============================] - 3s 228ms/step - loss: 1.0052 - accuracy: 0.6333 - val_loss: 0.9211 - val_accuracy: 0.6333\n",
      "Epoch 3/100\n",
      "12/12 [==============================] - 3s 227ms/step - loss: 0.8956 - accuracy: 0.6667 - val_loss: 0.8414 - val_accuracy: 0.6667\n",
      "Epoch 4/100\n",
      "12/12 [==============================] - 3s 227ms/step - loss: 0.8364 - accuracy: 0.7000 - val_loss: 0.7678 - val_accuracy: 0.7000\n",
      "Epoch 5/100\n",
      "12/12 [==============================] - 3s 224ms/step - loss: 0.7774 - accuracy: 0.7167 - val_loss: 0.6892 - val_accuracy: 0.7500\n",
      "Epoch 6/100\n",
      "12/12 [==============================] - 3s 220ms/step - loss: 0.6845 - accuracy: 0.7333 - val_loss: 0.6227 - val_accuracy: 0.7333\n",
      "Epoch 7/100\n",
      "12/12 [==============================] - 3s 222ms/step - loss: 0.5924 - accuracy: 0.7667 - val_loss: 0.5427 - val_accuracy: 0.8000\n",
      "Epoch 8/100\n",
      "12/12 [==============================] - 3s 222ms/step - loss: 0.5149 - accuracy: 0.8000 - val_loss: 0.4475 - val_accuracy: 0.8000\n",
      "Epoch 9/100\n",
      "12/12 [==============================] - 3s 226ms/step - loss: 0.4362 - accuracy: 0.8000 - val_loss: 0.3650 - val_accuracy: 0.8333\n",
      "Epoch 10/100\n",
      "12/12 [==============================] - 3s 231ms/step - loss: 0.3624 - accuracy: 0.8833 - val_loss: 0.3230 - val_accuracy: 0.8833\n",
      "Epoch 11/100\n",
      "12/12 [==============================] - 3s 224ms/step - loss: 0.2804 - accuracy: 0.9333 - val_loss: 0.2074 - val_accuracy: 0.9833\n",
      "Epoch 12/100\n",
      "12/12 [==============================] - 3s 220ms/step - loss: 0.2145 - accuracy: 0.9667 - val_loss: 0.1195 - val_accuracy: 1.0000\n",
      "Epoch 13/100\n",
      "12/12 [==============================] - 3s 224ms/step - loss: 0.1525 - accuracy: 1.0000 - val_loss: 0.1065 - val_accuracy: 1.0000\n",
      "Epoch 14/100\n",
      "12/12 [==============================] - 3s 226ms/step - loss: 0.1216 - accuracy: 1.0000 - val_loss: 0.0502 - val_accuracy: 1.0000\n",
      "Epoch 15/100\n",
      "12/12 [==============================] - 3s 222ms/step - loss: 0.0765 - accuracy: 1.0000 - val_loss: 0.0513 - val_accuracy: 1.0000\n",
      "Epoch 16/100\n",
      "12/12 [==============================] - 3s 222ms/step - loss: 0.0611 - accuracy: 1.0000 - val_loss: 0.0327 - val_accuracy: 1.0000\n",
      "Epoch 17/100\n",
      "12/12 [==============================] - 3s 244ms/step - loss: 0.0448 - accuracy: 1.0000 - val_loss: 0.0283 - val_accuracy: 1.0000\n",
      "Epoch 18/100\n",
      "12/12 [==============================] - 3s 225ms/step - loss: 0.0315 - accuracy: 1.0000 - val_loss: 0.0188 - val_accuracy: 1.0000\n",
      "Epoch 19/100\n",
      "12/12 [==============================] - 3s 237ms/step - loss: 0.0300 - accuracy: 1.0000 - val_loss: 0.0168 - val_accuracy: 1.0000\n",
      "Epoch 20/100\n",
      "12/12 [==============================] - 3s 226ms/step - loss: 0.0237 - accuracy: 1.0000 - val_loss: 0.0130 - val_accuracy: 1.0000\n",
      "Epoch 21/100\n",
      "12/12 [==============================] - 3s 227ms/step - loss: 0.0217 - accuracy: 1.0000 - val_loss: 0.0116 - val_accuracy: 1.0000\n",
      "Epoch 22/100\n",
      "12/12 [==============================] - 3s 231ms/step - loss: 0.0197 - accuracy: 1.0000 - val_loss: 0.0105 - val_accuracy: 1.0000\n",
      "Epoch 23/100\n",
      "12/12 [==============================] - 3s 223ms/step - loss: 0.0174 - accuracy: 1.0000 - val_loss: 0.0106 - val_accuracy: 1.0000\n",
      "Epoch 24/100\n",
      "12/12 [==============================] - 3s 230ms/step - loss: 0.0234 - accuracy: 1.0000 - val_loss: 0.0101 - val_accuracy: 1.0000\n",
      "Epoch 25/100\n",
      "12/12 [==============================] - 3s 226ms/step - loss: 0.0197 - accuracy: 1.0000 - val_loss: 0.0113 - val_accuracy: 1.0000\n",
      "Epoch 26/100\n",
      "12/12 [==============================] - 3s 228ms/step - loss: 0.0128 - accuracy: 1.0000 - val_loss: 0.0072 - val_accuracy: 1.0000\n",
      "Epoch 27/100\n",
      "12/12 [==============================] - 3s 238ms/step - loss: 0.0209 - accuracy: 1.0000 - val_loss: 0.0158 - val_accuracy: 1.0000\n",
      "Epoch 28/100\n",
      "12/12 [==============================] - 3s 227ms/step - loss: 0.0204 - accuracy: 1.0000 - val_loss: 0.0070 - val_accuracy: 1.0000\n",
      "Epoch 29/100\n",
      "12/12 [==============================] - 3s 226ms/step - loss: 0.0124 - accuracy: 1.0000 - val_loss: 0.0082 - val_accuracy: 1.0000\n",
      "Epoch 30/100\n",
      "12/12 [==============================] - 3s 233ms/step - loss: 0.0100 - accuracy: 1.0000 - val_loss: 0.0055 - val_accuracy: 1.0000\n",
      "Epoch 31/100\n",
      "12/12 [==============================] - 3s 226ms/step - loss: 0.0085 - accuracy: 1.0000 - val_loss: 0.0052 - val_accuracy: 1.0000\n",
      "Epoch 32/100\n",
      "12/12 [==============================] - 3s 234ms/step - loss: 0.0168 - accuracy: 1.0000 - val_loss: 0.0085 - val_accuracy: 1.0000\n",
      "Epoch 33/100\n",
      "12/12 [==============================] - 3s 223ms/step - loss: 0.0116 - accuracy: 1.0000 - val_loss: 0.0051 - val_accuracy: 1.0000\n",
      "Epoch 34/100\n",
      "12/12 [==============================] - 3s 224ms/step - loss: 0.0111 - accuracy: 1.0000 - val_loss: 0.0042 - val_accuracy: 1.0000\n",
      "Epoch 35/100\n",
      "12/12 [==============================] - 3s 221ms/step - loss: 0.0066 - accuracy: 1.0000 - val_loss: 0.0043 - val_accuracy: 1.0000\n",
      "Epoch 36/100\n",
      "12/12 [==============================] - 3s 221ms/step - loss: 0.0051 - accuracy: 1.0000 - val_loss: 0.0038 - val_accuracy: 1.0000\n",
      "Epoch 37/100\n",
      "12/12 [==============================] - 3s 217ms/step - loss: 0.0065 - accuracy: 1.0000 - val_loss: 0.0035 - val_accuracy: 1.0000\n",
      "Epoch 38/100\n",
      "12/12 [==============================] - 3s 235ms/step - loss: 0.0058 - accuracy: 1.0000 - val_loss: 0.0031 - val_accuracy: 1.0000\n",
      "Epoch 39/100\n",
      "12/12 [==============================] - 3s 233ms/step - loss: 0.0072 - accuracy: 1.0000 - val_loss: 0.0029 - val_accuracy: 1.0000\n",
      "Epoch 40/100\n",
      "12/12 [==============================] - 3s 227ms/step - loss: 0.0038 - accuracy: 1.0000 - val_loss: 0.0027 - val_accuracy: 1.0000\n",
      "Epoch 41/100\n",
      "12/12 [==============================] - 3s 232ms/step - loss: 0.0043 - accuracy: 1.0000 - val_loss: 0.0025 - val_accuracy: 1.0000\n",
      "Epoch 42/100\n",
      "12/12 [==============================] - 3s 232ms/step - loss: 0.0062 - accuracy: 1.0000 - val_loss: 0.0025 - val_accuracy: 1.0000\n",
      "Epoch 43/100\n",
      "12/12 [==============================] - 3s 243ms/step - loss: 0.0042 - accuracy: 1.0000 - val_loss: 0.0023 - val_accuracy: 1.0000\n",
      "Epoch 44/100\n",
      "12/12 [==============================] - 3s 232ms/step - loss: 0.0043 - accuracy: 1.0000 - val_loss: 0.0022 - val_accuracy: 1.0000\n",
      "Epoch 45/100\n",
      "12/12 [==============================] - 3s 223ms/step - loss: 0.0033 - accuracy: 1.0000 - val_loss: 0.0020 - val_accuracy: 1.0000\n",
      "Epoch 46/100\n",
      "12/12 [==============================] - 3s 242ms/step - loss: 0.0043 - accuracy: 1.0000 - val_loss: 0.0020 - val_accuracy: 1.0000\n",
      "Epoch 47/100\n",
      "12/12 [==============================] - 3s 246ms/step - loss: 0.0032 - accuracy: 1.0000 - val_loss: 0.0020 - val_accuracy: 1.0000\n",
      "Epoch 48/100\n",
      "12/12 [==============================] - 3s 232ms/step - loss: 0.0024 - accuracy: 1.0000 - val_loss: 0.0019 - val_accuracy: 1.0000\n",
      "Epoch 49/100\n",
      "12/12 [==============================] - 3s 224ms/step - loss: 0.0029 - accuracy: 1.0000 - val_loss: 0.0017 - val_accuracy: 1.0000\n",
      "Epoch 50/100\n",
      "12/12 [==============================] - 3s 230ms/step - loss: 0.0029 - accuracy: 1.0000 - val_loss: 0.0016 - val_accuracy: 1.0000\n",
      "Epoch 51/100\n",
      "12/12 [==============================] - 3s 236ms/step - loss: 0.0032 - accuracy: 1.0000 - val_loss: 0.0016 - val_accuracy: 1.0000\n",
      "Epoch 52/100\n",
      "12/12 [==============================] - 3s 229ms/step - loss: 0.0034 - accuracy: 1.0000 - val_loss: 0.0016 - val_accuracy: 1.0000\n",
      "Epoch 53/100\n",
      "12/12 [==============================] - 3s 233ms/step - loss: 0.0033 - accuracy: 1.0000 - val_loss: 0.0015 - val_accuracy: 1.0000\n",
      "Epoch 54/100\n",
      "12/12 [==============================] - 3s 220ms/step - loss: 0.0025 - accuracy: 1.0000 - val_loss: 0.0014 - val_accuracy: 1.0000\n",
      "Epoch 55/100\n",
      "12/12 [==============================] - 3s 222ms/step - loss: 0.0030 - accuracy: 1.0000 - val_loss: 0.0014 - val_accuracy: 1.0000\n",
      "Epoch 56/100\n",
      "12/12 [==============================] - 3s 221ms/step - loss: 0.0045 - accuracy: 1.0000 - val_loss: 0.0015 - val_accuracy: 1.0000\n",
      "Epoch 57/100\n",
      "12/12 [==============================] - 3s 220ms/step - loss: 0.0024 - accuracy: 1.0000 - val_loss: 0.0014 - val_accuracy: 1.0000\n"
     ]
    },
    {
     "name": "stdout",
     "output_type": "stream",
     "text": [
      "Epoch 58/100\n",
      "12/12 [==============================] - 3s 255ms/step - loss: 0.0023 - accuracy: 1.0000 - val_loss: 0.0013 - val_accuracy: 1.0000\n",
      "Epoch 59/100\n",
      "12/12 [==============================] - 3s 232ms/step - loss: 0.0030 - accuracy: 1.0000 - val_loss: 0.0012 - val_accuracy: 1.0000\n",
      "Epoch 60/100\n",
      "12/12 [==============================] - 3s 228ms/step - loss: 0.0025 - accuracy: 1.0000 - val_loss: 0.0012 - val_accuracy: 1.0000\n",
      "Epoch 61/100\n",
      "12/12 [==============================] - 3s 225ms/step - loss: 0.0024 - accuracy: 1.0000 - val_loss: 0.0012 - val_accuracy: 1.0000\n",
      "Epoch 62/100\n",
      "12/12 [==============================] - 3s 244ms/step - loss: 0.0047 - accuracy: 1.0000 - val_loss: 0.0014 - val_accuracy: 1.0000\n",
      "Epoch 63/100\n",
      "12/12 [==============================] - 3s 226ms/step - loss: 0.0021 - accuracy: 1.0000 - val_loss: 0.0017 - val_accuracy: 1.0000\n",
      "Epoch 64/100\n",
      "12/12 [==============================] - 3s 228ms/step - loss: 0.0179 - accuracy: 1.0000 - val_loss: 0.0038 - val_accuracy: 1.0000\n",
      "Epoch 65/100\n",
      "12/12 [==============================] - 3s 224ms/step - loss: 0.0238 - accuracy: 0.9833 - val_loss: 0.0022 - val_accuracy: 1.0000\n",
      "Epoch 66/100\n",
      "12/12 [==============================] - 3s 227ms/step - loss: 0.0081 - accuracy: 1.0000 - val_loss: 0.0027 - val_accuracy: 1.0000\n",
      "Epoch 67/100\n",
      "12/12 [==============================] - 3s 227ms/step - loss: 0.0034 - accuracy: 1.0000 - val_loss: 0.0025 - val_accuracy: 1.0000\n",
      "Epoch 68/100\n",
      "12/12 [==============================] - 3s 225ms/step - loss: 0.0068 - accuracy: 1.0000 - val_loss: 0.0020 - val_accuracy: 1.0000\n",
      "Epoch 69/100\n",
      "12/12 [==============================] - 3s 225ms/step - loss: 0.0041 - accuracy: 1.0000 - val_loss: 0.0019 - val_accuracy: 1.0000\n",
      "Epoch 70/100\n",
      "12/12 [==============================] - 3s 222ms/step - loss: 0.0039 - accuracy: 1.0000 - val_loss: 0.0013 - val_accuracy: 1.0000\n",
      "Epoch 71/100\n",
      "12/12 [==============================] - 3s 223ms/step - loss: 0.0041 - accuracy: 1.0000 - val_loss: 0.0012 - val_accuracy: 1.0000\n",
      "Epoch 72/100\n",
      "12/12 [==============================] - 3s 222ms/step - loss: 0.0019 - accuracy: 1.0000 - val_loss: 0.0011 - val_accuracy: 1.0000\n",
      "Epoch 73/100\n",
      "12/12 [==============================] - 3s 224ms/step - loss: 0.0028 - accuracy: 1.0000 - val_loss: 9.9945e-04 - val_accuracy: 1.0000\n",
      "Epoch 74/100\n",
      "12/12 [==============================] - 3s 223ms/step - loss: 0.0025 - accuracy: 1.0000 - val_loss: 9.8810e-04 - val_accuracy: 1.0000\n",
      "Epoch 75/100\n",
      "12/12 [==============================] - 3s 225ms/step - loss: 0.0019 - accuracy: 1.0000 - val_loss: 9.5045e-04 - val_accuracy: 1.0000\n",
      "Epoch 76/100\n",
      "12/12 [==============================] - 3s 224ms/step - loss: 0.0012 - accuracy: 1.0000 - val_loss: 8.8662e-04 - val_accuracy: 1.0000\n",
      "Epoch 77/100\n",
      "12/12 [==============================] - 3s 223ms/step - loss: 0.0019 - accuracy: 1.0000 - val_loss: 8.3462e-04 - val_accuracy: 1.0000\n",
      "Epoch 78/100\n",
      "12/12 [==============================] - 3s 229ms/step - loss: 0.0018 - accuracy: 1.0000 - val_loss: 7.8473e-04 - val_accuracy: 1.0000\n",
      "Epoch 79/100\n",
      "12/12 [==============================] - 3s 225ms/step - loss: 0.0023 - accuracy: 1.0000 - val_loss: 8.4566e-04 - val_accuracy: 1.0000\n",
      "Epoch 80/100\n",
      "12/12 [==============================] - 3s 223ms/step - loss: 0.0022 - accuracy: 1.0000 - val_loss: 7.1813e-04 - val_accuracy: 1.0000\n",
      "Epoch 81/100\n",
      "12/12 [==============================] - 3s 223ms/step - loss: 0.0011 - accuracy: 1.0000 - val_loss: 7.6757e-04 - val_accuracy: 1.0000\n",
      "Epoch 82/100\n",
      "12/12 [==============================] - 3s 224ms/step - loss: 0.0013 - accuracy: 1.0000 - val_loss: 6.8421e-04 - val_accuracy: 1.0000\n",
      "Epoch 83/100\n",
      "12/12 [==============================] - 3s 224ms/step - loss: 0.0018 - accuracy: 1.0000 - val_loss: 6.2245e-04 - val_accuracy: 1.0000\n",
      "Epoch 84/100\n",
      "12/12 [==============================] - 3s 223ms/step - loss: 0.0018 - accuracy: 1.0000 - val_loss: 6.8825e-04 - val_accuracy: 1.0000\n",
      "Epoch 85/100\n",
      "12/12 [==============================] - 3s 222ms/step - loss: 0.0014 - accuracy: 1.0000 - val_loss: 6.4959e-04 - val_accuracy: 1.0000\n",
      "Epoch 86/100\n",
      "12/12 [==============================] - 3s 223ms/step - loss: 0.0014 - accuracy: 1.0000 - val_loss: 5.9261e-04 - val_accuracy: 1.0000\n",
      "Epoch 87/100\n",
      "12/12 [==============================] - 3s 225ms/step - loss: 0.0012 - accuracy: 1.0000 - val_loss: 5.7335e-04 - val_accuracy: 1.0000\n",
      "Epoch 88/100\n",
      "12/12 [==============================] - 3s 224ms/step - loss: 9.8127e-04 - accuracy: 1.0000 - val_loss: 5.6662e-04 - val_accuracy: 1.0000\n",
      "Epoch 89/100\n",
      "12/12 [==============================] - 3s 223ms/step - loss: 0.0017 - accuracy: 1.0000 - val_loss: 5.5682e-04 - val_accuracy: 1.0000\n",
      "Epoch 90/100\n",
      "12/12 [==============================] - 3s 223ms/step - loss: 0.0017 - accuracy: 1.0000 - val_loss: 5.8551e-04 - val_accuracy: 1.0000\n",
      "Epoch 91/100\n",
      "12/12 [==============================] - 3s 224ms/step - loss: 0.0010 - accuracy: 1.0000 - val_loss: 5.7756e-04 - val_accuracy: 1.0000\n",
      "Epoch 92/100\n",
      "12/12 [==============================] - 3s 221ms/step - loss: 0.0012 - accuracy: 1.0000 - val_loss: 5.3923e-04 - val_accuracy: 1.0000\n",
      "Epoch 93/100\n",
      "12/12 [==============================] - 3s 223ms/step - loss: 6.9843e-04 - accuracy: 1.0000 - val_loss: 5.0409e-04 - val_accuracy: 1.0000\n",
      "Epoch 94/100\n",
      "12/12 [==============================] - 3s 228ms/step - loss: 0.0015 - accuracy: 1.0000 - val_loss: 4.9181e-04 - val_accuracy: 1.0000\n",
      "Epoch 95/100\n",
      "12/12 [==============================] - 3s 227ms/step - loss: 0.0021 - accuracy: 1.0000 - val_loss: 5.1725e-04 - val_accuracy: 1.0000\n",
      "Epoch 96/100\n",
      "12/12 [==============================] - 3s 226ms/step - loss: 0.0014 - accuracy: 1.0000 - val_loss: 5.4381e-04 - val_accuracy: 1.0000\n",
      "Epoch 97/100\n",
      "12/12 [==============================] - 3s 227ms/step - loss: 0.0013 - accuracy: 1.0000 - val_loss: 5.1468e-04 - val_accuracy: 1.0000\n",
      "Epoch 98/100\n",
      "12/12 [==============================] - 3s 230ms/step - loss: 7.2723e-04 - accuracy: 1.0000 - val_loss: 4.5785e-04 - val_accuracy: 1.0000\n",
      "Epoch 99/100\n",
      "12/12 [==============================] - 3s 229ms/step - loss: 0.0010 - accuracy: 1.0000 - val_loss: 4.3670e-04 - val_accuracy: 1.0000\n",
      "Epoch 100/100\n",
      "12/12 [==============================] - 3s 228ms/step - loss: 9.7028e-04 - accuracy: 1.0000 - val_loss: 4.3004e-04 - val_accuracy: 1.0000\n"
     ]
    }
   ],
   "source": [
    "history=model.fit(train_generator,epochs=100,validation_data=val_generator)"
   ]
  },
  {
   "cell_type": "code",
   "execution_count": 68,
   "id": "6d3b7ac8",
   "metadata": {},
   "outputs": [
    {
     "name": "stdout",
     "output_type": "stream",
     "text": [
      "Model: \"sequential_4\"\n",
      "_________________________________________________________________\n",
      " Layer (type)                Output Shape              Param #   \n",
      "=================================================================\n",
      " mobilenetv2_1.00_224 (Funct  (None, 7, 7, 1280)       2257984   \n",
      " ional)                                                          \n",
      "                                                                 \n",
      " conv2d_4 (Conv2D)           (None, 5, 5, 32)          368672    \n",
      "                                                                 \n",
      " dropout_4 (Dropout)         (None, 5, 5, 32)          0         \n",
      "                                                                 \n",
      " global_average_pooling2d_4   (None, 32)               0         \n",
      " (GlobalAveragePooling2D)                                        \n",
      "                                                                 \n",
      " dense_4 (Dense)             (None, 15)                495       \n",
      "                                                                 \n",
      "=================================================================\n",
      "Total params: 2,627,151\n",
      "Trainable params: 369,167\n",
      "Non-trainable params: 2,257,984\n",
      "_________________________________________________________________\n"
     ]
    }
   ],
   "source": [
    "img=cv.imread('/home/rishi/Desktop/MachineLearning/Dataset/test/angelina_jolie')\n",
    "model.summary()"
   ]
  },
  {
   "cell_type": "code",
   "execution_count": 72,
   "id": "40500a92",
   "metadata": {},
   "outputs": [],
   "source": [
    "path1='/home/rishi/Desktop/MachineLearning/Dataset/test'"
   ]
  },
  {
   "cell_type": "code",
   "execution_count": 73,
   "id": "5607f82d",
   "metadata": {},
   "outputs": [
    {
     "name": "stdout",
     "output_type": "stream",
     "text": [
      "Found 0 images belonging to 16 classes.\n",
      "Found 60 images belonging to 15 classes.\n"
     ]
    }
   ],
   "source": [
    "test_generator=data_generator.flow_from_directory(\n",
    "path1,\n",
    "target_size=(IMAGE_SIZE,IMAGE_SIZE),\n",
    "batch_size=BATCH_SIZE,\n",
    "subset='validation')\n",
    "\n",
    "\n",
    "valT_generator=data_generator.flow_from_directory(\n",
    "path,\n",
    "target_size=(IMAGE_SIZE,IMAGE_SIZE),\n",
    "batch_size=BATCH_SIZE,\n",
    "subset='validation')\n",
    "\n",
    "for image_batch ,label_batch in test_generator:\n",
    "    break"
   ]
  },
  {
   "cell_type": "code",
   "execution_count": null,
   "id": "8a87e763",
   "metadata": {},
   "outputs": [],
   "source": []
  }
 ],
 "metadata": {
  "kernelspec": {
   "display_name": "Python 3 (ipykernel)",
   "language": "python",
   "name": "python3"
  },
  "language_info": {
   "codemirror_mode": {
    "name": "ipython",
    "version": 3
   },
   "file_extension": ".py",
   "mimetype": "text/x-python",
   "name": "python",
   "nbconvert_exporter": "python",
   "pygments_lexer": "ipython3",
   "version": "3.10.6"
  }
 },
 "nbformat": 4,
 "nbformat_minor": 5
}
