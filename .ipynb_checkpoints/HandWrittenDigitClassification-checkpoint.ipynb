{
 "cells": [
  {
   "cell_type": "code",
   "execution_count": 4,
   "id": "3d3ac9af",
   "metadata": {},
   "outputs": [],
   "source": [
    "import typing"
   ]
  },
  {
   "cell_type": "code",
   "execution_count": 5,
   "id": "474f88fc",
   "metadata": {},
   "outputs": [],
   "source": [
    "from os import getcwd,path"
   ]
  },
  {
   "cell_type": "code",
   "execution_count": 7,
   "id": "2276703e",
   "metadata": {},
   "outputs": [],
   "source": [
    "import tensorflow as tf"
   ]
  },
  {
   "cell_type": "code",
   "execution_count": 8,
   "id": "061f9cbd",
   "metadata": {},
   "outputs": [],
   "source": [
    "import pandas as pd"
   ]
  },
  {
   "cell_type": "code",
   "execution_count": 9,
   "id": "159d86bf",
   "metadata": {},
   "outputs": [],
   "source": [
    "from sklearn.datasets import load_digits"
   ]
  },
  {
   "cell_type": "code",
   "execution_count": 12,
   "id": "cae9fd57",
   "metadata": {},
   "outputs": [],
   "source": [
    "digit=load_digits()"
   ]
  },
  {
   "cell_type": "code",
   "execution_count": 13,
   "id": "93eff1ac",
   "metadata": {},
   "outputs": [
    {
     "name": "stdout",
     "output_type": "stream",
     "text": [
      ".. _digits_dataset:\n",
      "\n",
      "Optical recognition of handwritten digits dataset\n",
      "--------------------------------------------------\n",
      "\n",
      "**Data Set Characteristics:**\n",
      "\n",
      "    :Number of Instances: 1797\n",
      "    :Number of Attributes: 64\n",
      "    :Attribute Information: 8x8 image of integer pixels in the range 0..16.\n",
      "    :Missing Attribute Values: None\n",
      "    :Creator: E. Alpaydin (alpaydin '@' boun.edu.tr)\n",
      "    :Date: July; 1998\n",
      "\n",
      "This is a copy of the test set of the UCI ML hand-written digits datasets\n",
      "https://archive.ics.uci.edu/ml/datasets/Optical+Recognition+of+Handwritten+Digits\n",
      "\n",
      "The data set contains images of hand-written digits: 10 classes where\n",
      "each class refers to a digit.\n",
      "\n",
      "Preprocessing programs made available by NIST were used to extract\n",
      "normalized bitmaps of handwritten digits from a preprinted form. From a\n",
      "total of 43 people, 30 contributed to the training set and different 13\n",
      "to the test set. 32x32 bitmaps are divided into nonoverlapping blocks of\n",
      "4x4 and the number of on pixels are counted in each block. This generates\n",
      "an input matrix of 8x8 where each element is an integer in the range\n",
      "0..16. This reduces dimensionality and gives invariance to small\n",
      "distortions.\n",
      "\n",
      "For info on NIST preprocessing routines, see M. D. Garris, J. L. Blue, G.\n",
      "T. Candela, D. L. Dimmick, J. Geist, P. J. Grother, S. A. Janet, and C.\n",
      "L. Wilson, NIST Form-Based Handprint Recognition System, NISTIR 5469,\n",
      "1994.\n",
      "\n",
      ".. topic:: References\n",
      "\n",
      "  - C. Kaynak (1995) Methods of Combining Multiple Classifiers and Their\n",
      "    Applications to Handwritten Digit Recognition, MSc Thesis, Institute of\n",
      "    Graduate Studies in Science and Engineering, Bogazici University.\n",
      "  - E. Alpaydin, C. Kaynak (1998) Cascading Classifiers, Kybernetika.\n",
      "  - Ken Tang and Ponnuthurai N. Suganthan and Xi Yao and A. Kai Qin.\n",
      "    Linear dimensionalityreduction using relevance weighted LDA. School of\n",
      "    Electrical and Electronic Engineering Nanyang Technological University.\n",
      "    2005.\n",
      "  - Claudio Gentile. A New Approximate Maximal Margin Classification\n",
      "    Algorithm. NIPS. 2000.\n",
      "\n"
     ]
    }
   ],
   "source": [
    "print(digit.DESCR)"
   ]
  },
  {
   "cell_type": "code",
   "execution_count": 14,
   "id": "35ccb015",
   "metadata": {},
   "outputs": [],
   "source": [
    "X=digit.data"
   ]
  },
  {
   "cell_type": "code",
   "execution_count": 15,
   "id": "79b29f51",
   "metadata": {},
   "outputs": [
    {
     "name": "stdout",
     "output_type": "stream",
     "text": [
      "[[ 0.  0.  5. 13.  9.  1.  0.  0.  0.  0. 13. 15. 10. 15.  5.  0.  0.  3.\n",
      "  15.  2.  0. 11.  8.  0.  0.  4. 12.  0.  0.  8.  8.  0.  0.  5.  8.  0.\n",
      "   0.  9.  8.  0.  0.  4. 11.  0.  1. 12.  7.  0.  0.  2. 14.  5. 10. 12.\n",
      "   0.  0.  0.  0.  6. 13. 10.  0.  0.  0.]\n",
      " [ 0.  0.  0. 12. 13.  5.  0.  0.  0.  0.  0. 11. 16.  9.  0.  0.  0.  0.\n",
      "   3. 15. 16.  6.  0.  0.  0.  7. 15. 16. 16.  2.  0.  0.  0.  0.  1. 16.\n",
      "  16.  3.  0.  0.  0.  0.  1. 16. 16.  6.  0.  0.  0.  0.  1. 16. 16.  6.\n",
      "   0.  0.  0.  0.  0. 11. 16. 10.  0.  0.]\n",
      " [ 0.  0.  0.  4. 15. 12.  0.  0.  0.  0.  3. 16. 15. 14.  0.  0.  0.  0.\n",
      "   8. 13.  8. 16.  0.  0.  0.  0.  1.  6. 15. 11.  0.  0.  0.  1.  8. 13.\n",
      "  15.  1.  0.  0.  0.  9. 16. 16.  5.  0.  0.  0.  0.  3. 13. 16. 16. 11.\n",
      "   5.  0.  0.  0.  0.  3. 11. 16.  9.  0.]\n",
      " [ 0.  0.  7. 15. 13.  1.  0.  0.  0.  8. 13.  6. 15.  4.  0.  0.  0.  2.\n",
      "   1. 13. 13.  0.  0.  0.  0.  0.  2. 15. 11.  1.  0.  0.  0.  0.  0.  1.\n",
      "  12. 12.  1.  0.  0.  0.  0.  0.  1. 10.  8.  0.  0.  0.  8.  4.  5. 14.\n",
      "   9.  0.  0.  0.  7. 13. 13.  9.  0.  0.]\n",
      " [ 0.  0.  0.  1. 11.  0.  0.  0.  0.  0.  0.  7.  8.  0.  0.  0.  0.  0.\n",
      "   1. 13.  6.  2.  2.  0.  0.  0.  7. 15.  0.  9.  8.  0.  0.  5. 16. 10.\n",
      "   0. 16.  6.  0.  0.  4. 15. 16. 13. 16.  1.  0.  0.  0.  0.  3. 15. 10.\n",
      "   0.  0.  0.  0.  0.  2. 16.  4.  0.  0.]\n",
      " [ 0.  0. 12. 10.  0.  0.  0.  0.  0.  0. 14. 16. 16. 14.  0.  0.  0.  0.\n",
      "  13. 16. 15. 10.  1.  0.  0.  0. 11. 16. 16.  7.  0.  0.  0.  0.  0.  4.\n",
      "   7. 16.  7.  0.  0.  0.  0.  0.  4. 16.  9.  0.  0.  0.  5.  4. 12. 16.\n",
      "   4.  0.  0.  0.  9. 16. 16. 10.  0.  0.]\n",
      " [ 0.  0.  0. 12. 13.  0.  0.  0.  0.  0.  5. 16.  8.  0.  0.  0.  0.  0.\n",
      "  13. 16.  3.  0.  0.  0.  0.  0. 14. 13.  0.  0.  0.  0.  0.  0. 15. 12.\n",
      "   7.  2.  0.  0.  0.  0. 13. 16. 13. 16.  3.  0.  0.  0.  7. 16. 11. 15.\n",
      "   8.  0.  0.  0.  1.  9. 15. 11.  3.  0.]\n",
      " [ 0.  0.  7.  8. 13. 16. 15.  1.  0.  0.  7.  7.  4. 11. 12.  0.  0.  0.\n",
      "   0.  0.  8. 13.  1.  0.  0.  4.  8.  8. 15. 15.  6.  0.  0.  2. 11. 15.\n",
      "  15.  4.  0.  0.  0.  0.  0. 16.  5.  0.  0.  0.  0.  0.  9. 15.  1.  0.\n",
      "   0.  0.  0.  0. 13.  5.  0.  0.  0.  0.]\n",
      " [ 0.  0.  9. 14.  8.  1.  0.  0.  0.  0. 12. 14. 14. 12.  0.  0.  0.  0.\n",
      "   9. 10.  0. 15.  4.  0.  0.  0.  3. 16. 12. 14.  2.  0.  0.  0.  4. 16.\n",
      "  16.  2.  0.  0.  0.  3. 16.  8. 10. 13.  2.  0.  0.  1. 15.  1.  3. 16.\n",
      "   8.  0.  0.  0. 11. 16. 15. 11.  1.  0.]\n",
      " [ 0.  0. 11. 12.  0.  0.  0.  0.  0.  2. 16. 16. 16. 13.  0.  0.  0.  3.\n",
      "  16. 12. 10. 14.  0.  0.  0.  1. 16.  1. 12. 15.  0.  0.  0.  0. 13. 16.\n",
      "   9. 15.  2.  0.  0.  0.  0.  3.  0.  9. 11.  0.  0.  0.  0.  0.  9. 15.\n",
      "   4.  0.  0.  0.  9. 12. 13.  3.  0.  0.]]\n"
     ]
    }
   ],
   "source": [
    "print(X[:10])"
   ]
  },
  {
   "cell_type": "code",
   "execution_count": 16,
   "id": "3a11eea5",
   "metadata": {},
   "outputs": [],
   "source": [
    "Y=digit.target"
   ]
  },
  {
   "cell_type": "code",
   "execution_count": 17,
   "id": "d53a2ce9",
   "metadata": {},
   "outputs": [
    {
     "name": "stdout",
     "output_type": "stream",
     "text": [
      "[0 1 2 3 4 5 6 7 8 9 0 1 2 3 4 5 6 7 8 9 0 1 2 3 4 5 6 7 8 9 0 9 5 5 6 5 0\n",
      " 9 8 9 8 4 1 7 7 3 5 1 0 0 2 2 7 8 2 0 1 2 6 3 3 7 3 3 4 6 6 6 4 9 1 5 0 9\n",
      " 5 2 8 2 0 0 1 7 6 3 2 1 7 4 6 3 1 3 9 1 7 6 8 4 3 1]\n"
     ]
    }
   ],
   "source": [
    "print(Y[:100])"
   ]
  },
  {
   "cell_type": "code",
   "execution_count": 18,
   "id": "489f1cd6",
   "metadata": {},
   "outputs": [],
   "source": [
    "from sklearn.model_selection import train_test_split\n",
    "X_train,X_test,Y_train,Y_test=train_test_split(X,Y,test_size=20,random_state=10)"
   ]
  },
  {
   "cell_type": "code",
   "execution_count": 19,
   "id": "4779ae4f",
   "metadata": {},
   "outputs": [],
   "source": [
    "from tensorflow.keras.models import Sequential\n",
    "from tensorflow.keras.layers import Dense"
   ]
  },
  {
   "cell_type": "code",
   "execution_count": 21,
   "id": "6b075748",
   "metadata": {},
   "outputs": [],
   "source": [
    "model=Sequential([\n",
    "    Dense(name='layer1',units=25,activation='relu'),\n",
    "    Dense(name='layer2',units=15,activation='relu'),\n",
    "    Dense(name='layer3',units=10,activation='linear')\n",
    "])"
   ]
  },
  {
   "cell_type": "code",
   "execution_count": 22,
   "id": "e831b1dd",
   "metadata": {},
   "outputs": [],
   "source": [
    "model.compile(optimizer=tf.keras.optimizers.Adam(learning_rate=1e-3),\n",
    "             loss=tf.keras.losses.SparseCategoricalCrossentropy(from_logits=True))"
   ]
  },
  {
   "cell_type": "code",
   "execution_count": 23,
   "id": "47b5820a",
   "metadata": {},
   "outputs": [
    {
     "name": "stdout",
     "output_type": "stream",
     "text": [
      "Epoch 1/200\n",
      "56/56 [==============================] - 0s 2ms/step - loss: 3.1458\n",
      "Epoch 2/200\n",
      "56/56 [==============================] - 0s 1ms/step - loss: 1.4251\n",
      "Epoch 3/200\n",
      "56/56 [==============================] - 0s 1ms/step - loss: 1.0257\n",
      "Epoch 4/200\n",
      "56/56 [==============================] - 0s 1ms/step - loss: 0.6904\n",
      "Epoch 5/200\n",
      "56/56 [==============================] - 0s 1ms/step - loss: 0.4202\n",
      "Epoch 6/200\n",
      "56/56 [==============================] - 0s 1ms/step - loss: 0.3007\n",
      "Epoch 7/200\n",
      "56/56 [==============================] - 0s 1ms/step - loss: 0.2374\n",
      "Epoch 8/200\n",
      "56/56 [==============================] - 0s 1ms/step - loss: 0.1987\n",
      "Epoch 9/200\n",
      "56/56 [==============================] - 0s 1ms/step - loss: 0.1674\n",
      "Epoch 10/200\n",
      "56/56 [==============================] - 0s 1ms/step - loss: 0.1484\n",
      "Epoch 11/200\n",
      "56/56 [==============================] - 0s 1ms/step - loss: 0.1303\n",
      "Epoch 12/200\n",
      "56/56 [==============================] - 0s 2ms/step - loss: 0.1168\n",
      "Epoch 13/200\n",
      "56/56 [==============================] - 0s 2ms/step - loss: 0.1052\n",
      "Epoch 14/200\n",
      "56/56 [==============================] - 0s 2ms/step - loss: 0.0983\n",
      "Epoch 15/200\n",
      "56/56 [==============================] - 0s 2ms/step - loss: 0.0898\n",
      "Epoch 16/200\n",
      "56/56 [==============================] - 0s 1ms/step - loss: 0.0817\n",
      "Epoch 17/200\n",
      "56/56 [==============================] - 0s 2ms/step - loss: 0.0769\n",
      "Epoch 18/200\n",
      "56/56 [==============================] - 0s 1ms/step - loss: 0.0696\n",
      "Epoch 19/200\n",
      "56/56 [==============================] - 0s 2ms/step - loss: 0.0629\n",
      "Epoch 20/200\n",
      "56/56 [==============================] - 0s 2ms/step - loss: 0.0624\n",
      "Epoch 21/200\n",
      "56/56 [==============================] - 0s 1ms/step - loss: 0.0555\n",
      "Epoch 22/200\n",
      "56/56 [==============================] - 0s 1ms/step - loss: 0.0538\n",
      "Epoch 23/200\n",
      "56/56 [==============================] - 0s 1ms/step - loss: 0.0466\n",
      "Epoch 24/200\n",
      "56/56 [==============================] - 0s 1ms/step - loss: 0.0446\n",
      "Epoch 25/200\n",
      "56/56 [==============================] - 0s 2ms/step - loss: 0.0404\n",
      "Epoch 26/200\n",
      "56/56 [==============================] - 0s 2ms/step - loss: 0.0412\n",
      "Epoch 27/200\n",
      "56/56 [==============================] - 0s 2ms/step - loss: 0.0393\n",
      "Epoch 28/200\n",
      "56/56 [==============================] - 0s 2ms/step - loss: 0.0346\n",
      "Epoch 29/200\n",
      "56/56 [==============================] - 0s 1ms/step - loss: 0.0334\n",
      "Epoch 30/200\n",
      "56/56 [==============================] - 0s 1ms/step - loss: 0.0288\n",
      "Epoch 31/200\n",
      "56/56 [==============================] - 0s 1ms/step - loss: 0.0261\n",
      "Epoch 32/200\n",
      "56/56 [==============================] - 0s 1ms/step - loss: 0.0251\n",
      "Epoch 33/200\n",
      "56/56 [==============================] - 0s 1ms/step - loss: 0.0240\n",
      "Epoch 34/200\n",
      "56/56 [==============================] - 0s 1ms/step - loss: 0.0224\n",
      "Epoch 35/200\n",
      "56/56 [==============================] - 0s 1ms/step - loss: 0.0208\n",
      "Epoch 36/200\n",
      "56/56 [==============================] - 0s 2ms/step - loss: 0.0193\n",
      "Epoch 37/200\n",
      "56/56 [==============================] - 0s 2ms/step - loss: 0.0184\n",
      "Epoch 38/200\n",
      "56/56 [==============================] - 0s 1ms/step - loss: 0.0171\n",
      "Epoch 39/200\n",
      "56/56 [==============================] - 0s 1ms/step - loss: 0.0158\n",
      "Epoch 40/200\n",
      "56/56 [==============================] - 0s 1ms/step - loss: 0.0145\n",
      "Epoch 41/200\n",
      "56/56 [==============================] - 0s 1ms/step - loss: 0.0146\n",
      "Epoch 42/200\n",
      "56/56 [==============================] - 0s 1ms/step - loss: 0.0126\n",
      "Epoch 43/200\n",
      "56/56 [==============================] - 0s 2ms/step - loss: 0.0115\n",
      "Epoch 44/200\n",
      "56/56 [==============================] - 0s 1ms/step - loss: 0.0122\n",
      "Epoch 45/200\n",
      "56/56 [==============================] - 0s 1ms/step - loss: 0.0127\n",
      "Epoch 46/200\n",
      "56/56 [==============================] - 0s 1ms/step - loss: 0.0098\n",
      "Epoch 47/200\n",
      "56/56 [==============================] - 0s 1ms/step - loss: 0.0094\n",
      "Epoch 48/200\n",
      "56/56 [==============================] - 0s 1ms/step - loss: 0.0086\n",
      "Epoch 49/200\n",
      "56/56 [==============================] - 0s 1ms/step - loss: 0.0079\n",
      "Epoch 50/200\n",
      "56/56 [==============================] - 0s 1ms/step - loss: 0.0075\n",
      "Epoch 51/200\n",
      "56/56 [==============================] - 0s 1ms/step - loss: 0.0068\n",
      "Epoch 52/200\n",
      "56/56 [==============================] - 0s 1ms/step - loss: 0.0066\n",
      "Epoch 53/200\n",
      "56/56 [==============================] - 0s 1ms/step - loss: 0.0062\n",
      "Epoch 54/200\n",
      "56/56 [==============================] - 0s 1ms/step - loss: 0.0062\n",
      "Epoch 55/200\n",
      "56/56 [==============================] - 0s 1ms/step - loss: 0.0052\n",
      "Epoch 56/200\n",
      "56/56 [==============================] - 0s 1ms/step - loss: 0.0053\n",
      "Epoch 57/200\n",
      "56/56 [==============================] - 0s 1ms/step - loss: 0.0051\n",
      "Epoch 58/200\n",
      "56/56 [==============================] - 0s 1ms/step - loss: 0.0045\n",
      "Epoch 59/200\n",
      "56/56 [==============================] - 0s 1ms/step - loss: 0.0043\n",
      "Epoch 60/200\n",
      "56/56 [==============================] - 0s 1ms/step - loss: 0.0039\n",
      "Epoch 61/200\n",
      "56/56 [==============================] - 0s 1ms/step - loss: 0.0039\n",
      "Epoch 62/200\n",
      "56/56 [==============================] - 0s 1ms/step - loss: 0.0038\n",
      "Epoch 63/200\n",
      "56/56 [==============================] - 0s 1ms/step - loss: 0.0033\n",
      "Epoch 64/200\n",
      "56/56 [==============================] - 0s 1ms/step - loss: 0.0032\n",
      "Epoch 65/200\n",
      "56/56 [==============================] - 0s 1ms/step - loss: 0.0029\n",
      "Epoch 66/200\n",
      "56/56 [==============================] - 0s 1ms/step - loss: 0.0028\n",
      "Epoch 67/200\n",
      "56/56 [==============================] - 0s 1ms/step - loss: 0.0028\n",
      "Epoch 68/200\n",
      "56/56 [==============================] - 0s 1ms/step - loss: 0.0025\n",
      "Epoch 69/200\n",
      "56/56 [==============================] - 0s 1ms/step - loss: 0.0026\n",
      "Epoch 70/200\n",
      "56/56 [==============================] - 0s 1ms/step - loss: 0.0023\n",
      "Epoch 71/200\n",
      "56/56 [==============================] - 0s 1ms/step - loss: 0.0023\n",
      "Epoch 72/200\n",
      "56/56 [==============================] - 0s 1ms/step - loss: 0.0022\n",
      "Epoch 73/200\n",
      "56/56 [==============================] - 0s 1ms/step - loss: 0.0020\n",
      "Epoch 74/200\n",
      "56/56 [==============================] - 0s 1ms/step - loss: 0.0019\n",
      "Epoch 75/200\n",
      "56/56 [==============================] - 0s 1ms/step - loss: 0.0019\n",
      "Epoch 76/200\n",
      "56/56 [==============================] - 0s 1ms/step - loss: 0.0018\n",
      "Epoch 77/200\n",
      "56/56 [==============================] - 0s 2ms/step - loss: 0.0016\n",
      "Epoch 78/200\n",
      "56/56 [==============================] - 0s 1ms/step - loss: 0.0016\n",
      "Epoch 79/200\n",
      "56/56 [==============================] - 0s 1ms/step - loss: 0.0016\n",
      "Epoch 80/200\n",
      "56/56 [==============================] - 0s 1ms/step - loss: 0.0015\n",
      "Epoch 81/200\n",
      "56/56 [==============================] - 0s 1ms/step - loss: 0.0014\n",
      "Epoch 82/200\n",
      "56/56 [==============================] - 0s 1ms/step - loss: 0.0013\n",
      "Epoch 83/200\n",
      "56/56 [==============================] - 0s 1ms/step - loss: 0.0013\n",
      "Epoch 84/200\n",
      "56/56 [==============================] - 0s 1ms/step - loss: 0.0013\n",
      "Epoch 85/200\n",
      "56/56 [==============================] - 0s 1ms/step - loss: 0.0013\n",
      "Epoch 86/200\n",
      "56/56 [==============================] - 0s 1ms/step - loss: 0.0011\n",
      "Epoch 87/200\n",
      "56/56 [==============================] - 0s 1ms/step - loss: 0.0011\n",
      "Epoch 88/200\n",
      "56/56 [==============================] - 0s 1ms/step - loss: 0.0010\n",
      "Epoch 89/200\n",
      "56/56 [==============================] - 0s 2ms/step - loss: 9.7618e-04\n",
      "Epoch 90/200\n",
      "56/56 [==============================] - 0s 1ms/step - loss: 8.9732e-04\n",
      "Epoch 91/200\n",
      "56/56 [==============================] - 0s 1ms/step - loss: 8.9153e-04\n",
      "Epoch 92/200\n",
      "56/56 [==============================] - 0s 2ms/step - loss: 8.4451e-04\n",
      "Epoch 93/200\n",
      "56/56 [==============================] - 0s 2ms/step - loss: 7.9917e-04\n",
      "Epoch 94/200\n",
      "56/56 [==============================] - 0s 2ms/step - loss: 7.6798e-04\n",
      "Epoch 95/200\n",
      "56/56 [==============================] - 0s 2ms/step - loss: 7.4502e-04\n",
      "Epoch 96/200\n",
      "56/56 [==============================] - 0s 2ms/step - loss: 7.0961e-04\n",
      "Epoch 97/200\n",
      "56/56 [==============================] - 0s 2ms/step - loss: 6.8450e-04\n",
      "Epoch 98/200\n",
      "56/56 [==============================] - 0s 2ms/step - loss: 6.5652e-04\n",
      "Epoch 99/200\n",
      "56/56 [==============================] - 0s 1ms/step - loss: 6.1655e-04\n",
      "Epoch 100/200\n",
      "56/56 [==============================] - 0s 1ms/step - loss: 6.0269e-04\n",
      "Epoch 101/200\n"
     ]
    },
    {
     "name": "stdout",
     "output_type": "stream",
     "text": [
      "56/56 [==============================] - 0s 1ms/step - loss: 6.2400e-04\n",
      "Epoch 102/200\n",
      "56/56 [==============================] - 0s 1ms/step - loss: 5.4770e-04\n",
      "Epoch 103/200\n",
      "56/56 [==============================] - 0s 1ms/step - loss: 5.4745e-04\n",
      "Epoch 104/200\n",
      "56/56 [==============================] - 0s 1ms/step - loss: 5.2542e-04\n",
      "Epoch 105/200\n",
      "56/56 [==============================] - 0s 1ms/step - loss: 5.1053e-04\n",
      "Epoch 106/200\n",
      "56/56 [==============================] - 0s 2ms/step - loss: 4.9171e-04\n",
      "Epoch 107/200\n",
      "56/56 [==============================] - 0s 2ms/step - loss: 4.7878e-04\n",
      "Epoch 108/200\n",
      "56/56 [==============================] - 0s 1ms/step - loss: 4.5541e-04\n",
      "Epoch 109/200\n",
      "56/56 [==============================] - 0s 1ms/step - loss: 4.2884e-04\n",
      "Epoch 110/200\n",
      "56/56 [==============================] - 0s 1ms/step - loss: 4.2404e-04\n",
      "Epoch 111/200\n",
      "56/56 [==============================] - 0s 2ms/step - loss: 4.1117e-04\n",
      "Epoch 112/200\n",
      "56/56 [==============================] - 0s 1ms/step - loss: 3.8015e-04\n",
      "Epoch 113/200\n",
      "56/56 [==============================] - 0s 1ms/step - loss: 3.6999e-04\n",
      "Epoch 114/200\n",
      "56/56 [==============================] - 0s 1ms/step - loss: 3.6730e-04\n",
      "Epoch 115/200\n",
      "56/56 [==============================] - 0s 2ms/step - loss: 3.5217e-04\n",
      "Epoch 116/200\n",
      "56/56 [==============================] - 0s 2ms/step - loss: 3.3293e-04\n",
      "Epoch 117/200\n",
      "56/56 [==============================] - 0s 1ms/step - loss: 3.2026e-04\n",
      "Epoch 118/200\n",
      "56/56 [==============================] - 0s 1ms/step - loss: 3.1669e-04\n",
      "Epoch 119/200\n",
      "56/56 [==============================] - 0s 2ms/step - loss: 2.9339e-04\n",
      "Epoch 120/200\n",
      "56/56 [==============================] - 0s 2ms/step - loss: 2.8674e-04\n",
      "Epoch 121/200\n",
      "56/56 [==============================] - 0s 1ms/step - loss: 2.6848e-04\n",
      "Epoch 122/200\n",
      "56/56 [==============================] - 0s 1ms/step - loss: 2.5985e-04\n",
      "Epoch 123/200\n",
      "56/56 [==============================] - 0s 2ms/step - loss: 2.5171e-04\n",
      "Epoch 124/200\n",
      "56/56 [==============================] - 0s 2ms/step - loss: 2.5562e-04\n",
      "Epoch 125/200\n",
      "56/56 [==============================] - 0s 2ms/step - loss: 2.3722e-04\n",
      "Epoch 126/200\n",
      "56/56 [==============================] - 0s 2ms/step - loss: 2.3267e-04\n",
      "Epoch 127/200\n",
      "56/56 [==============================] - 0s 2ms/step - loss: 2.1847e-04\n",
      "Epoch 128/200\n",
      "56/56 [==============================] - 0s 1ms/step - loss: 2.0940e-04\n",
      "Epoch 129/200\n",
      "56/56 [==============================] - 0s 2ms/step - loss: 2.0586e-04\n",
      "Epoch 130/200\n",
      "56/56 [==============================] - 0s 1ms/step - loss: 2.0045e-04\n",
      "Epoch 131/200\n",
      "56/56 [==============================] - 0s 2ms/step - loss: 2.0654e-04\n",
      "Epoch 132/200\n",
      "56/56 [==============================] - 0s 2ms/step - loss: 1.8431e-04\n",
      "Epoch 133/200\n",
      "56/56 [==============================] - 0s 2ms/step - loss: 1.7559e-04\n",
      "Epoch 134/200\n",
      "56/56 [==============================] - 0s 2ms/step - loss: 1.8013e-04\n",
      "Epoch 135/200\n",
      "56/56 [==============================] - 0s 2ms/step - loss: 1.6741e-04\n",
      "Epoch 136/200\n",
      "56/56 [==============================] - 0s 2ms/step - loss: 1.6663e-04\n",
      "Epoch 137/200\n",
      "56/56 [==============================] - 0s 2ms/step - loss: 1.5659e-04\n",
      "Epoch 138/200\n",
      "56/56 [==============================] - 0s 1ms/step - loss: 1.5050e-04\n",
      "Epoch 139/200\n",
      "56/56 [==============================] - 0s 1ms/step - loss: 1.4518e-04\n",
      "Epoch 140/200\n",
      "56/56 [==============================] - 0s 1ms/step - loss: 1.3885e-04\n",
      "Epoch 141/200\n",
      "56/56 [==============================] - 0s 1ms/step - loss: 1.3363e-04\n",
      "Epoch 142/200\n",
      "56/56 [==============================] - 0s 1ms/step - loss: 1.2995e-04\n",
      "Epoch 143/200\n",
      "56/56 [==============================] - 0s 1ms/step - loss: 1.2299e-04\n",
      "Epoch 144/200\n",
      "56/56 [==============================] - 0s 1ms/step - loss: 1.2373e-04\n",
      "Epoch 145/200\n",
      "56/56 [==============================] - 0s 1ms/step - loss: 1.1632e-04\n",
      "Epoch 146/200\n",
      "56/56 [==============================] - 0s 1ms/step - loss: 1.2132e-04\n",
      "Epoch 147/200\n",
      "56/56 [==============================] - 0s 1ms/step - loss: 1.0700e-04\n",
      "Epoch 148/200\n",
      "56/56 [==============================] - 0s 2ms/step - loss: 1.0680e-04\n",
      "Epoch 149/200\n",
      "56/56 [==============================] - 0s 2ms/step - loss: 1.0265e-04\n",
      "Epoch 150/200\n",
      "56/56 [==============================] - 0s 2ms/step - loss: 9.9644e-05\n",
      "Epoch 151/200\n",
      "56/56 [==============================] - 0s 2ms/step - loss: 9.4588e-05\n",
      "Epoch 152/200\n",
      "56/56 [==============================] - 0s 1ms/step - loss: 9.3297e-05\n",
      "Epoch 153/200\n",
      "56/56 [==============================] - 0s 1ms/step - loss: 9.2683e-05\n",
      "Epoch 154/200\n",
      "56/56 [==============================] - 0s 2ms/step - loss: 8.3516e-05\n",
      "Epoch 155/200\n",
      "56/56 [==============================] - 0s 2ms/step - loss: 8.2928e-05\n",
      "Epoch 156/200\n",
      "56/56 [==============================] - 0s 2ms/step - loss: 7.8848e-05\n",
      "Epoch 157/200\n",
      "56/56 [==============================] - 0s 2ms/step - loss: 7.7850e-05\n",
      "Epoch 158/200\n",
      "56/56 [==============================] - 0s 2ms/step - loss: 7.3976e-05\n",
      "Epoch 159/200\n",
      "56/56 [==============================] - 0s 2ms/step - loss: 7.3088e-05\n",
      "Epoch 160/200\n",
      "56/56 [==============================] - 0s 2ms/step - loss: 6.8948e-05\n",
      "Epoch 161/200\n",
      "56/56 [==============================] - 0s 2ms/step - loss: 6.6479e-05\n",
      "Epoch 162/200\n",
      "56/56 [==============================] - 0s 2ms/step - loss: 6.4954e-05\n",
      "Epoch 163/200\n",
      "56/56 [==============================] - 0s 2ms/step - loss: 6.2448e-05\n",
      "Epoch 164/200\n",
      "56/56 [==============================] - 0s 1ms/step - loss: 5.9972e-05\n",
      "Epoch 165/200\n",
      "56/56 [==============================] - 0s 2ms/step - loss: 5.8126e-05\n",
      "Epoch 166/200\n",
      "56/56 [==============================] - 0s 2ms/step - loss: 5.5833e-05\n",
      "Epoch 167/200\n",
      "56/56 [==============================] - 0s 2ms/step - loss: 5.5066e-05\n",
      "Epoch 168/200\n",
      "56/56 [==============================] - 0s 2ms/step - loss: 5.3188e-05\n",
      "Epoch 169/200\n",
      "56/56 [==============================] - 0s 2ms/step - loss: 5.1168e-05\n",
      "Epoch 170/200\n",
      "56/56 [==============================] - 0s 2ms/step - loss: 4.8605e-05\n",
      "Epoch 171/200\n",
      "56/56 [==============================] - 0s 2ms/step - loss: 4.7378e-05\n",
      "Epoch 172/200\n",
      "56/56 [==============================] - 0s 2ms/step - loss: 4.6433e-05\n",
      "Epoch 173/200\n",
      "56/56 [==============================] - 0s 2ms/step - loss: 4.4673e-05\n",
      "Epoch 174/200\n",
      "56/56 [==============================] - 0s 2ms/step - loss: 4.2819e-05\n",
      "Epoch 175/200\n",
      "56/56 [==============================] - 0s 1ms/step - loss: 4.1271e-05\n",
      "Epoch 176/200\n",
      "56/56 [==============================] - 0s 1ms/step - loss: 3.9719e-05\n",
      "Epoch 177/200\n",
      "56/56 [==============================] - 0s 1ms/step - loss: 3.7551e-05\n",
      "Epoch 178/200\n",
      "56/56 [==============================] - 0s 1ms/step - loss: 3.7572e-05\n",
      "Epoch 179/200\n",
      "56/56 [==============================] - 0s 1ms/step - loss: 3.6090e-05\n",
      "Epoch 180/200\n",
      "56/56 [==============================] - 0s 1ms/step - loss: 3.5159e-05\n",
      "Epoch 181/200\n",
      "56/56 [==============================] - 0s 1ms/step - loss: 3.3855e-05\n",
      "Epoch 182/200\n",
      "56/56 [==============================] - 0s 1ms/step - loss: 3.3052e-05\n",
      "Epoch 183/200\n",
      "56/56 [==============================] - 0s 2ms/step - loss: 3.1569e-05\n",
      "Epoch 184/200\n",
      "56/56 [==============================] - 0s 2ms/step - loss: 3.0089e-05\n",
      "Epoch 185/200\n",
      "56/56 [==============================] - 0s 2ms/step - loss: 3.0887e-05\n",
      "Epoch 186/200\n",
      "56/56 [==============================] - 0s 2ms/step - loss: 2.9652e-05\n",
      "Epoch 187/200\n",
      "56/56 [==============================] - 0s 2ms/step - loss: 2.7369e-05\n",
      "Epoch 188/200\n",
      "56/56 [==============================] - 0s 1ms/step - loss: 2.7878e-05\n",
      "Epoch 189/200\n",
      "56/56 [==============================] - 0s 1ms/step - loss: 2.5834e-05\n",
      "Epoch 190/200\n",
      "56/56 [==============================] - 0s 1ms/step - loss: 2.5491e-05\n",
      "Epoch 191/200\n",
      "56/56 [==============================] - 0s 2ms/step - loss: 2.4559e-05\n",
      "Epoch 192/200\n",
      "56/56 [==============================] - 0s 2ms/step - loss: 2.4224e-05\n",
      "Epoch 193/200\n",
      "56/56 [==============================] - 0s 2ms/step - loss: 2.2461e-05\n",
      "Epoch 194/200\n",
      "56/56 [==============================] - 0s 2ms/step - loss: 2.2383e-05\n",
      "Epoch 195/200\n",
      "56/56 [==============================] - 0s 2ms/step - loss: 2.1404e-05\n",
      "Epoch 196/200\n"
     ]
    },
    {
     "name": "stdout",
     "output_type": "stream",
     "text": [
      "56/56 [==============================] - 0s 2ms/step - loss: 2.0457e-05\n",
      "Epoch 197/200\n",
      "56/56 [==============================] - 0s 2ms/step - loss: 1.9990e-05\n",
      "Epoch 198/200\n",
      "56/56 [==============================] - 0s 1ms/step - loss: 1.9110e-05\n",
      "Epoch 199/200\n",
      "56/56 [==============================] - 0s 1ms/step - loss: 1.8743e-05\n",
      "Epoch 200/200\n",
      "56/56 [==============================] - 0s 2ms/step - loss: 1.8363e-05\n"
     ]
    }
   ],
   "source": [
    "history=model.fit(X_train,Y_train,epochs=200)"
   ]
  },
  {
   "cell_type": "code",
   "execution_count": 24,
   "id": "f1f2851b",
   "metadata": {},
   "outputs": [],
   "source": [
    "import matplotlib.pyplot as plt"
   ]
  },
  {
   "cell_type": "code",
   "execution_count": 26,
   "id": "ca66d479",
   "metadata": {},
   "outputs": [],
   "source": [
    "logits=model(X_train)"
   ]
  },
  {
   "cell_type": "code",
   "execution_count": 27,
   "id": "8f28a994",
   "metadata": {},
   "outputs": [],
   "source": [
    "f_x=tf.nn.softmax(logits)"
   ]
  },
  {
   "cell_type": "code",
   "execution_count": 28,
   "id": "6002a618",
   "metadata": {},
   "outputs": [
    {
     "name": "stdout",
     "output_type": "stream",
     "text": [
      "tf.Tensor(\n",
      "[[5.4044507e-14 9.9997407e-01 2.7890470e-12 ... 1.4640053e-09\n",
      "  1.3374859e-07 7.1987047e-14]\n",
      " [1.1735293e-18 4.1878255e-13 2.0189526e-13 ... 1.5899846e-15\n",
      "  9.9984193e-01 8.2408079e-08]\n",
      " [6.4959860e-09 2.6874704e-25 1.3403196e-14 ... 4.2856167e-16\n",
      "  6.8050738e-09 3.8054266e-14]\n",
      " ...\n",
      " [9.8430533e-30 9.9999994e-01 1.9439350e-12 ... 1.8501690e-21\n",
      "  8.0990618e-13 3.3464656e-15]\n",
      " [5.4400678e-11 9.5375530e-05 2.4521164e-06 ... 2.5240928e-05\n",
      "  9.9984646e-01 7.4648192e-06]\n",
      " [2.6161175e-14 3.9781187e-24 1.0000000e+00 ... 1.4210018e-19\n",
      "  4.4885647e-16 8.9795138e-16]], shape=(1777, 10), dtype=float32)\n"
     ]
    }
   ],
   "source": [
    "print(f_x)"
   ]
  },
  {
   "cell_type": "code",
   "execution_count": 29,
   "id": "4cdc7383",
   "metadata": {},
   "outputs": [],
   "source": [
    "import numpy as np"
   ]
  },
  {
   "cell_type": "code",
   "execution_count": 30,
   "id": "33709df4",
   "metadata": {},
   "outputs": [
    {
     "name": "stdout",
     "output_type": "stream",
     "text": [
      "1/1 [==============================] - 0s 69ms/step\n"
     ]
    }
   ],
   "source": [
    "prediction=model.predict(X_test)"
   ]
  },
  {
   "cell_type": "code",
   "execution_count": 31,
   "id": "b158ad48",
   "metadata": {},
   "outputs": [
    {
     "name": "stdout",
     "output_type": "stream",
     "text": [
      "[5 2 5 4 2 2 4 3 3 0 8 7 0 1 8 6 9 7 9 7]\n"
     ]
    }
   ],
   "source": [
    "print(np.argmax(prediction,axis=1))"
   ]
  },
  {
   "cell_type": "code",
   "execution_count": 45,
   "id": "b9d60f6b",
   "metadata": {},
   "outputs": [
    {
     "data": {
      "text/plain": [
       "(20, 10)"
      ]
     },
     "execution_count": 45,
     "metadata": {},
     "output_type": "execute_result"
    }
   ],
   "source": [
    "prediction.flatten()\n",
    "prediction.shape"
   ]
  },
  {
   "cell_type": "code",
   "execution_count": 33,
   "id": "4c7cd3b3",
   "metadata": {},
   "outputs": [],
   "source": [
    "from sklearn import metrics"
   ]
  },
  {
   "cell_type": "code",
   "execution_count": 34,
   "id": "c8713331",
   "metadata": {},
   "outputs": [],
   "source": [
    "from sklearn.metrics import confusion_matrix"
   ]
  },
  {
   "cell_type": "code",
   "execution_count": 43,
   "id": "c759b1db",
   "metadata": {},
   "outputs": [
    {
     "ename": "ValueError",
     "evalue": "Classification metrics can't handle a mix of multiclass and continuous-multioutput targets",
     "output_type": "error",
     "traceback": [
      "\u001b[0;31m---------------------------------------------------------------------------\u001b[0m",
      "\u001b[0;31mValueError\u001b[0m                                Traceback (most recent call last)",
      "Input \u001b[0;32mIn [43]\u001b[0m, in \u001b[0;36m<cell line: 1>\u001b[0;34m()\u001b[0m\n\u001b[0;32m----> 1\u001b[0m \u001b[38;5;28mprint\u001b[39m(\u001b[38;5;124m\"\u001b[39m\u001b[38;5;124mAccuracy:\u001b[39m\u001b[38;5;124m\"\u001b[39m,\u001b[43mmetrics\u001b[49m\u001b[38;5;241;43m.\u001b[39;49m\u001b[43maccuracy_score\u001b[49m\u001b[43m(\u001b[49m\u001b[43my_true\u001b[49m\u001b[38;5;241;43m=\u001b[39;49m\u001b[43mY_test\u001b[49m\u001b[43m,\u001b[49m\u001b[43my_pred\u001b[49m\u001b[38;5;241;43m=\u001b[39;49m\u001b[43mprediction\u001b[49m\u001b[43m)\u001b[49m\u001b[38;5;241m*\u001b[39m\u001b[38;5;241m100\u001b[39m)\n",
      "File \u001b[0;32m~/.local/lib/python3.10/site-packages/sklearn/metrics/_classification.py:211\u001b[0m, in \u001b[0;36maccuracy_score\u001b[0;34m(y_true, y_pred, normalize, sample_weight)\u001b[0m\n\u001b[1;32m    145\u001b[0m \u001b[38;5;124;03m\"\"\"Accuracy classification score.\u001b[39;00m\n\u001b[1;32m    146\u001b[0m \n\u001b[1;32m    147\u001b[0m \u001b[38;5;124;03mIn multilabel classification, this function computes subset accuracy:\u001b[39;00m\n\u001b[0;32m   (...)\u001b[0m\n\u001b[1;32m    207\u001b[0m \u001b[38;5;124;03m0.5\u001b[39;00m\n\u001b[1;32m    208\u001b[0m \u001b[38;5;124;03m\"\"\"\u001b[39;00m\n\u001b[1;32m    210\u001b[0m \u001b[38;5;66;03m# Compute accuracy for each possible representation\u001b[39;00m\n\u001b[0;32m--> 211\u001b[0m y_type, y_true, y_pred \u001b[38;5;241m=\u001b[39m \u001b[43m_check_targets\u001b[49m\u001b[43m(\u001b[49m\u001b[43my_true\u001b[49m\u001b[43m,\u001b[49m\u001b[43m \u001b[49m\u001b[43my_pred\u001b[49m\u001b[43m)\u001b[49m\n\u001b[1;32m    212\u001b[0m check_consistent_length(y_true, y_pred, sample_weight)\n\u001b[1;32m    213\u001b[0m \u001b[38;5;28;01mif\u001b[39;00m y_type\u001b[38;5;241m.\u001b[39mstartswith(\u001b[38;5;124m\"\u001b[39m\u001b[38;5;124mmultilabel\u001b[39m\u001b[38;5;124m\"\u001b[39m):\n",
      "File \u001b[0;32m~/.local/lib/python3.10/site-packages/sklearn/metrics/_classification.py:93\u001b[0m, in \u001b[0;36m_check_targets\u001b[0;34m(y_true, y_pred)\u001b[0m\n\u001b[1;32m     90\u001b[0m     y_type \u001b[38;5;241m=\u001b[39m {\u001b[38;5;124m\"\u001b[39m\u001b[38;5;124mmulticlass\u001b[39m\u001b[38;5;124m\"\u001b[39m}\n\u001b[1;32m     92\u001b[0m \u001b[38;5;28;01mif\u001b[39;00m \u001b[38;5;28mlen\u001b[39m(y_type) \u001b[38;5;241m>\u001b[39m \u001b[38;5;241m1\u001b[39m:\n\u001b[0;32m---> 93\u001b[0m     \u001b[38;5;28;01mraise\u001b[39;00m \u001b[38;5;167;01mValueError\u001b[39;00m(\n\u001b[1;32m     94\u001b[0m         \u001b[38;5;124m\"\u001b[39m\u001b[38;5;124mClassification metrics can\u001b[39m\u001b[38;5;124m'\u001b[39m\u001b[38;5;124mt handle a mix of \u001b[39m\u001b[38;5;132;01m{0}\u001b[39;00m\u001b[38;5;124m and \u001b[39m\u001b[38;5;132;01m{1}\u001b[39;00m\u001b[38;5;124m targets\u001b[39m\u001b[38;5;124m\"\u001b[39m\u001b[38;5;241m.\u001b[39mformat(\n\u001b[1;32m     95\u001b[0m             type_true, type_pred\n\u001b[1;32m     96\u001b[0m         )\n\u001b[1;32m     97\u001b[0m     )\n\u001b[1;32m     99\u001b[0m \u001b[38;5;66;03m# We can't have more than one value on y_type => The set is no more needed\u001b[39;00m\n\u001b[1;32m    100\u001b[0m y_type \u001b[38;5;241m=\u001b[39m y_type\u001b[38;5;241m.\u001b[39mpop()\n",
      "\u001b[0;31mValueError\u001b[0m: Classification metrics can't handle a mix of multiclass and continuous-multioutput targets"
     ]
    }
   ],
   "source": [
    "print(\"Accuracy:\",metrics.accuracy_score(y_true=Y_test,y_pred=prediction)*100)"
   ]
  },
  {
   "cell_type": "code",
   "execution_count": null,
   "id": "261f78c9",
   "metadata": {},
   "outputs": [],
   "source": []
  }
 ],
 "metadata": {
  "kernelspec": {
   "display_name": "Python 3 (ipykernel)",
   "language": "python",
   "name": "python3"
  },
  "language_info": {
   "codemirror_mode": {
    "name": "ipython",
    "version": 3
   },
   "file_extension": ".py",
   "mimetype": "text/x-python",
   "name": "python",
   "nbconvert_exporter": "python",
   "pygments_lexer": "ipython3",
   "version": "3.10.4"
  }
 },
 "nbformat": 4,
 "nbformat_minor": 5
}
