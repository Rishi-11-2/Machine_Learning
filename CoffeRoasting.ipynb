{
 "cells": [
  {
   "cell_type": "code",
   "execution_count": 3,
   "id": "f29fb669",
   "metadata": {},
   "outputs": [],
   "source": [
    "import numpy as np\n"
   ]
  },
  {
   "cell_type": "code",
   "execution_count": 5,
   "id": "0499144c",
   "metadata": {},
   "outputs": [],
   "source": [
    "import tensorflow as tf"
   ]
  },
  {
   "cell_type": "code",
   "execution_count": 6,
   "id": "eb7afbfb",
   "metadata": {},
   "outputs": [],
   "source": [
    "rng=np.random.default_rng(2)\n",
    "X=rng.random(400).reshape(-1,2)\n",
    "X[:,1]=X[:,1]*4+11.5\n",
    "X[:,0]=X[:,0]*(285-150)+150\n",
    "Y=np.zeros(len(X))\n",
    "\n",
    "i=0\n",
    "for t,d in X:\n",
    "    y=-3/(260-175)*t+21\n",
    "    if(t>175 and t<260 and d>12 and d<15 and d<=y):\n",
    "        Y[i]=1\n",
    "    else:\n",
    "        Y[i]=0\n",
    "    i+=1"
   ]
  },
  {
   "cell_type": "code",
   "execution_count": 7,
   "id": "fa068a0f",
   "metadata": {},
   "outputs": [],
   "source": [
    "Y=Y.reshape(-1,1)"
   ]
  },
  {
   "cell_type": "code",
   "execution_count": 8,
   "id": "46963c46",
   "metadata": {},
   "outputs": [
    {
     "name": "stdout",
     "output_type": "stream",
     "text": [
      "Temperature Max, Min pre normalization: 284.99, 151.32\n",
      "Duration    Max, Min pre normalization: 15.45, 11.51\n"
     ]
    }
   ],
   "source": [
    "print(f\"Temperature Max, Min pre normalization: {np.max(X[:,0]):0.2f}, {np.min(X[:,0]):0.2f}\")\n",
    "print(f\"Duration    Max, Min pre normalization: {np.max(X[:,1]):0.2f}, {np.min(X[:,1]):0.2f}\")"
   ]
  },
  {
   "cell_type": "code",
   "execution_count": 9,
   "id": "a4493c68",
   "metadata": {},
   "outputs": [],
   "source": [
    "from tensorflow.keras.models import Sequential\n",
    "from tensorflow.keras.layers import Dense"
   ]
  },
  {
   "cell_type": "code",
   "execution_count": 10,
   "id": "155bebee",
   "metadata": {},
   "outputs": [],
   "source": [
    "norm_l=tf.keras.layers.Normalization(axis=-1)"
   ]
  },
  {
   "cell_type": "code",
   "execution_count": 12,
   "id": "43d3be74",
   "metadata": {},
   "outputs": [],
   "source": [
    "norm_l.adapt(X)\n",
    "Xn=norm_l(X)"
   ]
  },
  {
   "cell_type": "code",
   "execution_count": 13,
   "id": "10862925",
   "metadata": {},
   "outputs": [
    {
     "name": "stdout",
     "output_type": "stream",
     "text": [
      "Temperature Max Min post normalization : 1.66,-1.69\n",
      "Temperature Max Min post normalization : 1.79,-1.70\n"
     ]
    }
   ],
   "source": [
    "print(f\"Temperature Max Min post normalization : {np.max(Xn[:,0]):0.2f},{np.min(Xn[:,0]):0.2f}\")\n",
    "print(f\"Temperature Max Min post normalization : {np.max(Xn[:,1]):0.2f},{np.min(Xn[:,1]):0.2f}\")"
   ]
  },
  {
   "cell_type": "code",
   "execution_count": 14,
   "id": "fc07da3b",
   "metadata": {},
   "outputs": [],
   "source": [
    "Xt=np.tile(Xn,(1000,1))\n",
    "Yt=np.tile(Y,(1000,1))"
   ]
  },
  {
   "cell_type": "code",
   "execution_count": 15,
   "id": "96c68466",
   "metadata": {},
   "outputs": [
    {
     "name": "stdout",
     "output_type": "stream",
     "text": [
      "(200000, 2)\n",
      "(200000, 1)\n"
     ]
    }
   ],
   "source": [
    "print(Xt.shape)\n",
    "print(Yt.shape)"
   ]
  },
  {
   "cell_type": "code",
   "execution_count": 16,
   "id": "0f6fbcce",
   "metadata": {},
   "outputs": [],
   "source": [
    "tf.random.set_seed(1234)\n",
    "Model=Sequential([\n",
    "    tf.keras.Input(shape=(2,)),\n",
    "    Dense(3,activation='sigmoid',name='layer1'),\n",
    "    Dense(1,activation='sigmoid',name='layer2')\n",
    "])"
   ]
  },
  {
   "cell_type": "code",
   "execution_count": 17,
   "id": "0d03fddc",
   "metadata": {},
   "outputs": [
    {
     "name": "stdout",
     "output_type": "stream",
     "text": [
      "Model: \"sequential\"\n",
      "_________________________________________________________________\n",
      " Layer (type)                Output Shape              Param #   \n",
      "=================================================================\n",
      " layer1 (Dense)              (None, 3)                 9         \n",
      "                                                                 \n",
      " layer2 (Dense)              (None, 1)                 4         \n",
      "                                                                 \n",
      "=================================================================\n",
      "Total params: 13\n",
      "Trainable params: 13\n",
      "Non-trainable params: 0\n",
      "_________________________________________________________________\n"
     ]
    }
   ],
   "source": [
    "Model.summary()"
   ]
  },
  {
   "cell_type": "code",
   "execution_count": 18,
   "id": "8d3150fa",
   "metadata": {},
   "outputs": [
    {
     "name": "stdout",
     "output_type": "stream",
     "text": [
      "W1(2, 3):\n",
      " [[ 0.38634133 -0.51666945 -0.6838556 ]\n",
      " [ 0.12615621 -0.3528415  -0.90096056]] \n",
      "b1(3,): [0. 0. 0.]\n",
      "W2(3, 1):\n",
      " [[-0.13020802]\n",
      " [ 0.69021726]\n",
      " [-0.38586217]] \n",
      "b2(1,): [0.]\n"
     ]
    }
   ],
   "source": [
    "W1, b1 = Model.get_layer(\"layer1\").get_weights()\n",
    "W2, b2 = Model.get_layer(\"layer2\").get_weights()\n",
    "print(f\"W1{W1.shape}:\\n\", W1, f\"\\nb1{b1.shape}:\", b1)\n",
    "print(f\"W2{W2.shape}:\\n\", W2, f\"\\nb2{b2.shape}:\", b2)"
   ]
  },
  {
   "cell_type": "code",
   "execution_count": 19,
   "id": "c025a0eb",
   "metadata": {},
   "outputs": [],
   "source": [
    "Model.compile(\n",
    "    loss=tf.keras.losses.BinaryCrossentropy(),\n",
    "    optimizer=tf.keras.optimizers.Adam(learning_rate=0.01),\n",
    ")"
   ]
  },
  {
   "cell_type": "code",
   "execution_count": 20,
   "id": "38ee92db",
   "metadata": {},
   "outputs": [
    {
     "name": "stdout",
     "output_type": "stream",
     "text": [
      "Epoch 1/10\n",
      "6250/6250 [==============================] - 10s 2ms/step - loss: 0.1857\n",
      "Epoch 2/10\n",
      "6250/6250 [==============================] - 9s 1ms/step - loss: 0.1284\n",
      "Epoch 3/10\n",
      "6250/6250 [==============================] - 9s 1ms/step - loss: 0.1162\n",
      "Epoch 4/10\n",
      "6250/6250 [==============================] - 9s 1ms/step - loss: 0.0504\n",
      "Epoch 5/10\n",
      "6250/6250 [==============================] - 9s 1ms/step - loss: 0.0174\n",
      "Epoch 6/10\n",
      "6250/6250 [==============================] - 9s 1ms/step - loss: 0.0113\n",
      "Epoch 7/10\n",
      "6250/6250 [==============================] - 9s 1ms/step - loss: 0.0079\n",
      "Epoch 8/10\n",
      "6250/6250 [==============================] - 9s 1ms/step - loss: 0.0056\n",
      "Epoch 9/10\n",
      "6250/6250 [==============================] - 9s 1ms/step - loss: 0.0041\n",
      "Epoch 10/10\n",
      "6250/6250 [==============================] - 9s 1ms/step - loss: 0.0030\n"
     ]
    },
    {
     "data": {
      "text/plain": [
       "<keras.callbacks.History at 0x7f8c58394100>"
      ]
     },
     "execution_count": 20,
     "metadata": {},
     "output_type": "execute_result"
    }
   ],
   "source": [
    "Model.fit(\n",
    "Xt,Yt,\n",
    "epochs=10\n",
    ")"
   ]
  },
  {
   "cell_type": "code",
   "execution_count": 22,
   "id": "f4c97984",
   "metadata": {},
   "outputs": [
    {
     "name": "stdout",
     "output_type": "stream",
     "text": [
      "1/1 [==============================] - 0s 26ms/step\n",
      "the predictions are ->[[9.76177514e-01]\n",
      " [1.18231415e-04]]\n"
     ]
    }
   ],
   "source": [
    "X_test=np.array([\n",
    "    [200,13.9],  \n",
    "    [200,17]])\n",
    "X_testn=norm_l(X_test)\n",
    "predictions=Model.predict(X_testn)\n",
    "print(f\"the predictions are ->{predictions}\")"
   ]
  },
  {
   "cell_type": "code",
   "execution_count": 24,
   "id": "c9ea678d",
   "metadata": {},
   "outputs": [
    {
     "name": "stdout",
     "output_type": "stream",
     "text": [
      "decisions=\n",
      "[[1.]\n",
      " [0.]]\n"
     ]
    }
   ],
   "source": [
    "y_hat=np.zeros_like(predictions)\n",
    "for i in range(len(predictions)):\n",
    "    if predictions[i]>=0.5:\n",
    "        y_hat[i]=1;\n",
    "    else:\n",
    "        y_hat[i]=0;\n",
    "print(f\"decisions=\\n{y_hat}\")"
   ]
  },
  {
   "cell_type": "code",
   "execution_count": null,
   "id": "81ce75d3",
   "metadata": {},
   "outputs": [],
   "source": [
    "done"
   ]
  }
 ],
 "metadata": {
  "kernelspec": {
   "display_name": "Python 3 (ipykernel)",
   "language": "python",
   "name": "python3"
  },
  "language_info": {
   "codemirror_mode": {
    "name": "ipython",
    "version": 3
   },
   "file_extension": ".py",
   "mimetype": "text/x-python",
   "name": "python",
   "nbconvert_exporter": "python",
   "pygments_lexer": "ipython3",
   "version": "3.10.4"
  }
 },
 "nbformat": 4,
 "nbformat_minor": 5
}
